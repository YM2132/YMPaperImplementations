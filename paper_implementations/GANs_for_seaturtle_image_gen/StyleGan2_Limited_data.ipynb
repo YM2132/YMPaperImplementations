{
 "cells": [
  {
   "cell_type": "markdown",
   "id": "f6db343f",
   "metadata": {},
   "source": [
    "Plan:\n",
    "- To implement limited data need StyleGAN2 https://arxiv.org/pdf/1912.04958\n",
    "    - To implement StyleGAN2 we need to implement StyleGAN https://arxiv.org/pdf/1812.04948\n",
    "        - To implement StyleGAN we need to implement ProgressiveGAN https://arxiv.org/pdf/1710.10196"
   ]
  },
  {
   "cell_type": "code",
   "execution_count": null,
   "id": "58cc06e5",
   "metadata": {},
   "outputs": [],
   "source": []
  }
 ],
 "metadata": {
  "kernelspec": {
   "display_name": "EyesOff2",
   "language": "python",
   "name": "eyesoff2"
  },
  "language_info": {
   "codemirror_mode": {
    "name": "ipython",
    "version": 3
   },
   "file_extension": ".py",
   "mimetype": "text/x-python",
   "name": "python",
   "nbconvert_exporter": "python",
   "pygments_lexer": "ipython3",
   "version": "3.11.7"
  }
 },
 "nbformat": 4,
 "nbformat_minor": 5
}
