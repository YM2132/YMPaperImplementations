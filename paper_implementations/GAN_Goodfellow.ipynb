{
 "cells": [
  {
   "cell_type": "code",
   "execution_count": 2,
   "id": "fae40913",
   "metadata": {},
   "outputs": [
    {
     "name": "stdout",
     "output_type": "stream",
     "text": [
      "env: PYTORCH_ENABLE_MPS_FALLBACK=1\n"
     ]
    }
   ],
   "source": [
    "import os\n",
    "\n",
    "# Set the environment variable to enable CPU fallback for MPS\n",
    "os.environ['PYTORCH_ENABLE_MPS_FALLBACK'] = '1'\n",
    "%env PYTORCH_ENABLE_MPS_FALLBACK=1"
   ]
  },
  {
   "cell_type": "code",
   "execution_count": 33,
   "id": "34092297",
   "metadata": {},
   "outputs": [],
   "source": [
    "import torch\n",
    "import torchvision\n",
    "\n",
    "import torch.nn as nn\n",
    "import torch.nn.functional as F\n",
    "\n",
    "import torchvision.transforms as transforms\n",
    "\n",
    "from torch.optim.lr_scheduler import ReduceLROnPlateau\n",
    "\n",
    "import numpy as np"
   ]
  },
  {
   "cell_type": "code",
   "execution_count": 4,
   "id": "498fd5a2",
   "metadata": {},
   "outputs": [
    {
     "name": "stdout",
     "output_type": "stream",
     "text": [
      "tensor([1.], device='mps:0')\n"
     ]
    }
   ],
   "source": [
    "if torch.backends.mps.is_available():\n",
    "    device = torch.device(\"mps\")\n",
    "    x = torch.ones(1, device=device)\n",
    "    print (x)\n",
    "    \n",
    "elif torch.backends.cuda.is_built():\n",
    "    device = torch.device(\"cuda\")\n",
    "    x = torch.ones(1, device=device)\n",
    "    print (x)\n",
    "    \n",
    "else:\n",
    "    print (\"MPS device not found.\")"
   ]
  },
  {
   "cell_type": "code",
   "execution_count": 30,
   "id": "b970734f",
   "metadata": {},
   "outputs": [],
   "source": [
    "transform = transforms.Compose([\n",
    "    transforms.ToTensor(),\n",
    "    transforms.Normalize((0.5,), (0.5,)),\n",
    "])\n",
    "\n",
    "mnist_train = torchvision.datasets.MNIST(\n",
    "    root='./Data',\n",
    "    train=True,\n",
    "    download=True,\n",
    "    transform=transform,\n",
    ")\n",
    "\n",
    "train_loader = torch.utils.data.DataLoader(\n",
    "    mnist_train, \n",
    "    shuffle=True,\n",
    "    batch_size=1,\n",
    ")\n",
    "\n",
    "mnist_test = torchvision.datasets.MNIST(\n",
    "    root='./Data',\n",
    "    train=False,\n",
    "    download=True,\n",
    "    transform=transform\n",
    ")\n",
    "\n",
    "test_loader = torch.utils.data.DataLoader(\n",
    "    mnist_test,\n",
    "    shuffle=True,\n",
    "    batch_size=1,\n",
    ")"
   ]
  },
  {
   "cell_type": "code",
   "execution_count": 31,
   "id": "7f4c37cd",
   "metadata": {},
   "outputs": [
    {
     "data": {
      "image/png": "[encoded data removed]",
      "text/plain": [
       "<Figure size 640x480 with 1 Axes>"
      ]
     },
     "metadata": {},
     "output_type": "display_data"
    }
   ],
   "source": [
    "# Let's show some of the training images, for fun.\n",
    "import matplotlib.pyplot as plt\n",
    "import numpy as np\n",
    "\n",
    "# functions to show an image\n",
    "\n",
    "def imshow(img):\n",
    "    img = img / 2 + 0.5  # unnormalize\n",
    "    npimg = img.numpy()\n",
    "    plt.imshow(np.transpose(npimg, (1, 2, 0)))\n",
    "    plt.show()\n",
    "\n",
    "\n",
    "# get some random training images\n",
    "dataiter = iter(train_loader)\n",
    "images, labels = next(dataiter)\n",
    "\n",
    "# show images\n",
    "imshow(torchvision.utils.make_grid(images))"
   ]
  },
  {
   "cell_type": "code",
   "execution_count": 32,
   "id": "093e9124",
   "metadata": {},
   "outputs": [
    {
     "data": {
      "text/plain": [
       "torch.Size([1, 1, 28, 28])"
      ]
     },
     "execution_count": 32,
     "metadata": {},
     "output_type": "execute_result"
    }
   ],
   "source": [
    "images.shape"
   ]
  },
  {
   "cell_type": "code",
   "execution_count": 47,
   "id": "24a7ef76",
   "metadata": {},
   "outputs": [],
   "source": [
    "class Generator(nn.Module): \n",
    "    def __init__(self):\n",
    "        super().__init__()\n",
    "        \n",
    "        self.linear1 = nn.Linear(1, 256)\n",
    "        self.relu1 = nn.ReLU()\n",
    "        \n",
    "        self.linear2 = nn.Linear(256, 784)\n",
    "        self.relu2 = nn.ReLU()\n",
    "    \n",
    "    def forward(self, x):\n",
    "        x = self.linear1(x)\n",
    "        x = self.relu1(x)\n",
    "        \n",
    "        x = self.linear2(x)\n",
    "        x = self.relu2(x)\n",
    "        \n",
    "        return x"
   ]
  },
  {
   "cell_type": "code",
   "execution_count": 118,
   "id": "c90d864e",
   "metadata": {},
   "outputs": [
    {
     "data": {
      "text/plain": [
       "tensor([-0.2143])"
      ]
     },
     "execution_count": 118,
     "metadata": {},
     "output_type": "execute_result"
    }
   ],
   "source": [
    "mu, sigma = 0, 1 # mean and standard deviation\n",
    "g_in = np.random.normal(mu, sigma, 1)\n",
    "g_in = torch.Tensor(g_in)\n",
    "g_in"
   ]
  },
  {
   "cell_type": "code",
   "execution_count": 159,
   "id": "a86758f3",
   "metadata": {},
   "outputs": [],
   "source": [
    "generator = Generator()"
   ]
  },
  {
   "cell_type": "code",
   "execution_count": 160,
   "id": "87d0ffd1",
   "metadata": {},
   "outputs": [],
   "source": [
    "g_out = generator(g_in)"
   ]
  },
  {
   "cell_type": "code",
   "execution_count": 161,
   "id": "79d1dca4",
   "metadata": {
    "scrolled": true
   },
   "outputs": [
    {
     "name": "stdout",
     "output_type": "stream",
     "text": [
      "28 1\n",
      "56 2\n",
      "84 3\n",
      "112 4\n",
      "140 5\n",
      "168 6\n",
      "196 7\n",
      "224 8\n",
      "252 9\n",
      "280 10\n",
      "308 11\n",
      "336 12\n",
      "364 13\n",
      "392 14\n",
      "420 15\n",
      "448 16\n",
      "476 17\n",
      "504 18\n",
      "532 19\n",
      "560 20\n",
      "588 21\n",
      "616 22\n",
      "644 23\n",
      "672 24\n",
      "700 25\n",
      "728 26\n",
      "756 27\n"
     ]
    }
   ],
   "source": [
    "g_out_mat = torch.zeros(1, 28, 28)\n",
    "\n",
    "m = 0\n",
    "n = 0\n",
    "\n",
    "for i in range(len(g_out)):\n",
    "    if i % 28 == 0 and i != 0:\n",
    "        m += 1\n",
    "        n = 0\n",
    "        print(i, m)\n",
    "        \n",
    "    g_out_mat[0, m, n] = g_out[i]\n",
    "    \n",
    "    n += 1\n",
    "    \n"
   ]
  },
  {
   "cell_type": "code",
   "execution_count": 162,
   "id": "230013d7",
   "metadata": {},
   "outputs": [
    {
     "data": {
      "image/png": "[encoded data removed]",
      "text/plain": [
       "<Figure size 640x480 with 1 Axes>"
      ]
     },
     "metadata": {},
     "output_type": "display_data"
    }
   ],
   "source": [
    "imshow(g_out_mat.detach())"
   ]
  },
  {
   "cell_type": "code",
   "execution_count": 163,
   "id": "06a2144a",
   "metadata": {},
   "outputs": [
    {
     "data": {
      "text/plain": [
       "tensor([[[0.1886, 0.0000, 0.0000, 0.3105, 0.0000, 0.1888, 0.0000, 0.1738,\n",
       "          0.1634, 0.2794, 0.3228, 0.0000, 0.0000, 0.0000, 0.3792, 0.0000,\n",
       "          0.1770, 0.2952, 0.0000, 0.1295, 0.0000, 0.5272, 0.1288, 0.0000,\n",
       "          0.0840, 0.0753, 0.0000, 0.0442],\n",
       "         [0.0000, 0.0576, 0.0000, 0.0000, 0.3366, 0.0000, 0.0219, 0.0000,\n",
       "          0.1567, 0.0000, 0.0000, 0.0000, 0.0725, 0.5014, 0.0247, 0.0000,\n",
       "          0.0000, 0.0482, 0.0402, 0.0119, 0.0000, 0.1734, 0.0000, 0.0000,\n",
       "          0.2033, 0.0000, 0.0000, 0.3862],\n",
       "         [0.3684, 0.1795, 0.0728, 0.0238, 0.3698, 0.2932, 0.0684, 0.0000,\n",
       "          0.3281, 0.0000, 0.1406, 0.3925, 0.0000, 0.1411, 0.0000, 0.1645,\n",
       "          0.0000, 0.3575, 0.0000, 0.3425, 0.3883, 0.1205, 0.5750, 0.0947,\n",
       "          0.1786, 0.0000, 0.0000, 0.0000],\n",
       "         [0.0570, 0.0784, 0.0000, 0.4130, 0.3929, 0.0000, 0.1187, 0.2266,\n",
       "          0.0000, 0.0023, 0.3057, 0.0706, 0.0000, 0.0000, 0.0229, 0.1300,\n",
       "          0.0196, 0.0000, 0.0000, 0.0000, 0.0000, 0.1652, 0.2272, 0.0000,\n",
       "          0.0000, 0.0000, 0.0000, 0.0296],\n",
       "         [0.1238, 0.3924, 0.2362, 0.1640, 0.0000, 0.0580, 0.0000, 0.1210,\n",
       "          0.3433, 0.0998, 0.0000, 0.0000, 0.0000, 0.4472, 0.2494, 0.2806,\n",
       "          0.3060, 0.2006, 0.5610, 0.5247, 0.4212, 0.0000, 0.0613, 0.2339,\n",
       "          0.1398, 0.0000, 0.1593, 0.0000],\n",
       "         [0.1894, 0.0849, 0.1382, 0.0867, 0.0000, 0.2521, 0.2070, 0.1826,\n",
       "          0.2619, 0.0000, 0.0000, 0.0000, 0.0000, 0.0000, 0.3363, 0.0000,\n",
       "          0.0000, 0.0000, 0.0000, 0.0000, 0.0000, 0.0334, 0.1398, 0.1385,\n",
       "          0.0000, 0.0000, 0.0000, 0.4643],\n",
       "         [0.0000, 0.0000, 0.0799, 0.0965, 0.0000, 0.3557, 0.0553, 0.0000,\n",
       "          0.0000, 0.0000, 0.3327, 0.1072, 0.0000, 0.0000, 0.0983, 0.0000,\n",
       "          0.2185, 0.3089, 0.0000, 0.1665, 0.0000, 0.0542, 0.0000, 0.0000,\n",
       "          0.0170, 0.0000, 0.1848, 0.0732],\n",
       "         [0.1049, 0.1146, 0.0000, 0.0000, 0.0000, 0.0490, 0.0000, 0.1432,\n",
       "          0.5575, 0.0000, 0.0000, 0.0920, 0.0822, 0.0000, 0.0000, 0.2063,\n",
       "          0.0000, 0.0072, 0.0000, 0.0000, 0.0000, 0.0000, 0.0000, 0.0000,\n",
       "          0.4257, 0.1290, 0.0000, 0.0000],\n",
       "         [0.4161, 0.0000, 0.0000, 0.3093, 0.0000, 0.1058, 0.0000, 0.6018,\n",
       "          0.0000, 0.0000, 0.1960, 0.0000, 0.0000, 0.3228, 0.0000, 0.0000,\n",
       "          0.0000, 0.0681, 0.2213, 0.1619, 0.0103, 0.3775, 0.0316, 0.1824,\n",
       "          0.0000, 0.0000, 0.0000, 0.0000],\n",
       "         [0.3818, 0.0000, 0.0000, 0.1266, 0.0000, 0.0000, 0.0274, 0.0000,\n",
       "          0.0000, 0.0460, 0.0000, 0.0000, 0.3451, 0.0000, 0.1040, 0.0000,\n",
       "          0.1084, 0.2081, 0.1554, 0.0000, 0.0000, 0.0000, 0.0000, 0.2598,\n",
       "          0.0327, 0.1919, 0.4035, 0.0510],\n",
       "         [0.3926, 0.0000, 0.4710, 0.0000, 0.1485, 0.0000, 0.0000, 0.0000,\n",
       "          0.0000, 0.0000, 0.0000, 0.0000, 0.0872, 0.2410, 0.1581, 0.0537,\n",
       "          0.0000, 0.0815, 0.0816, 0.0000, 0.0000, 0.0000, 0.0597, 0.2522,\n",
       "          0.0000, 0.0000, 0.1344, 0.1083],\n",
       "         [0.0000, 0.0000, 0.0000, 0.0000, 0.2322, 0.0914, 0.0053, 0.0000,\n",
       "          0.0000, 0.1753, 0.0403, 0.1709, 0.0288, 0.0784, 0.0000, 0.3736,\n",
       "          0.0000, 0.1397, 0.0000, 0.1937, 0.2664, 0.2795, 0.4952, 0.0000,\n",
       "          0.1595, 0.0000, 0.0732, 0.0757],\n",
       "         [0.0000, 0.1491, 0.0000, 0.0080, 0.0000, 0.0000, 0.0000, 0.0000,\n",
       "          0.3065, 0.0000, 0.0000, 0.0000, 0.0901, 0.3225, 0.0275, 0.1307,\n",
       "          0.1532, 0.0000, 0.0805, 0.2932, 0.1248, 0.0000, 0.3718, 0.0000,\n",
       "          0.0116, 0.0000, 0.0768, 0.0000],\n",
       "         [0.1421, 0.1002, 0.0000, 0.0000, 0.4344, 0.2340, 0.0000, 0.2308,\n",
       "          0.1675, 0.0000, 0.2653, 0.6742, 0.0000, 0.1625, 0.1253, 0.0000,\n",
       "          0.0000, 0.0000, 0.3526, 0.1336, 0.0000, 0.0000, 0.0000, 0.0000,\n",
       "          0.4928, 0.2113, 0.0000, 0.0000],\n",
       "         [0.0641, 0.0000, 0.3352, 0.5325, 0.0561, 0.0094, 0.0000, 0.0000,\n",
       "          0.1291, 0.3113, 0.0000, 0.2614, 0.2375, 0.0000, 0.0000, 0.0000,\n",
       "          0.2211, 0.2139, 0.1768, 0.1888, 0.3440, 0.0000, 0.1852, 0.0000,\n",
       "          0.1702, 0.0548, 0.0000, 0.0000],\n",
       "         [0.0000, 0.1297, 0.2842, 0.4976, 0.0000, 0.0386, 0.0000, 0.3528,\n",
       "          0.2135, 0.0888, 0.0000, 0.0000, 0.0000, 0.2213, 0.0000, 0.0000,\n",
       "          0.3879, 0.0000, 0.0036, 0.0000, 0.0000, 0.0000, 0.0187, 0.0000,\n",
       "          0.0000, 0.0000, 0.2072, 0.0000],\n",
       "         [0.1026, 0.0000, 0.0975, 0.5577, 0.0000, 0.1562, 0.0790, 0.0738,\n",
       "          0.2008, 0.0140, 0.0000, 0.1038, 0.0000, 0.0728, 0.1064, 0.0145,\n",
       "          0.0000, 0.3681, 0.0000, 0.4289, 0.1999, 0.1082, 0.0184, 0.1151,\n",
       "          0.1222, 0.0000, 0.2122, 0.0797],\n",
       "         [0.1194, 0.1613, 0.1473, 0.0080, 0.4424, 0.0315, 0.3610, 0.0000,\n",
       "          0.0211, 0.1404, 0.2613, 0.0000, 0.3585, 0.0000, 0.0000, 0.0000,\n",
       "          0.0340, 0.0000, 0.0000, 0.0000, 0.2108, 0.0029, 0.2718, 0.1817,\n",
       "          0.0671, 0.2408, 0.3499, 0.0000],\n",
       "         [0.0000, 0.2020, 0.1423, 0.0902, 0.0674, 0.0182, 0.0000, 0.1001,\n",
       "          0.1412, 0.1742, 0.0000, 0.2436, 0.0000, 0.0132, 0.3876, 0.0000,\n",
       "          0.3563, 0.0000, 0.0000, 0.4320, 0.2792, 0.0092, 0.0000, 0.0824,\n",
       "          0.0229, 0.0622, 0.0000, 0.1295],\n",
       "         [0.2832, 0.2505, 0.0000, 0.0000, 0.1906, 0.0258, 0.1108, 0.2262,\n",
       "          0.3041, 0.0000, 0.1066, 0.0000, 0.0000, 0.0168, 0.0000, 0.0000,\n",
       "          0.0000, 0.0000, 0.0000, 0.0454, 0.0000, 0.3546, 0.0000, 0.0000,\n",
       "          0.1789, 0.2739, 0.0000, 0.0000],\n",
       "         [0.0000, 0.3212, 0.0000, 0.0000, 0.0000, 0.0000, 0.2549, 0.0000,\n",
       "          0.0000, 0.0000, 0.0000, 0.0000, 0.0180, 0.0239, 0.0000, 0.0205,\n",
       "          0.0000, 0.0609, 0.3988, 0.0000, 0.1598, 0.0000, 0.0000, 0.0000,\n",
       "          0.0000, 0.0000, 0.0000, 0.2430],\n",
       "         [0.0000, 0.0000, 0.2324, 0.0000, 0.0000, 0.0000, 0.0000, 0.0000,\n",
       "          0.0000, 0.2407, 0.0000, 0.0545, 0.0079, 0.0000, 0.0000, 0.3377,\n",
       "          0.0000, 0.0000, 0.2752, 0.0000, 0.0000, 0.4154, 0.0000, 0.0000,\n",
       "          0.0000, 0.0000, 0.0590, 0.0000],\n",
       "         [0.1386, 0.0000, 0.0000, 0.2930, 0.0000, 0.0000, 0.0948, 0.0381,\n",
       "          0.0059, 0.4139, 0.0000, 0.0000, 0.1566, 0.0000, 0.4837, 0.0000,\n",
       "          0.2358, 0.0000, 0.0000, 0.0483, 0.0770, 0.2096, 0.0000, 0.0000,\n",
       "          0.0000, 0.0000, 0.0000, 0.0000],\n",
       "         [0.0000, 0.0000, 0.0000, 0.1850, 0.3962, 0.0000, 0.0000, 0.2959,\n",
       "          0.5219, 0.0000, 0.0000, 0.0184, 0.0970, 0.3502, 0.0000, 0.0000,\n",
       "          0.0000, 0.0784, 0.0000, 0.0000, 0.0000, 0.2072, 0.0000, 0.0000,\n",
       "          0.1888, 0.3083, 0.0168, 0.0000],\n",
       "         [0.2462, 0.2327, 0.2807, 0.2803, 0.0000, 0.1600, 0.2511, 0.0000,\n",
       "          0.0227, 0.0000, 0.0000, 0.0000, 0.0000, 0.0000, 0.2138, 0.0000,\n",
       "          0.1752, 0.0000, 0.0000, 0.0000, 0.1930, 0.0000, 0.0592, 0.2448,\n",
       "          0.4569, 0.0162, 0.0000, 0.0384],\n",
       "         [0.0000, 0.3987, 0.1656, 0.0000, 0.0000, 0.1169, 0.0000, 0.0000,\n",
       "          0.3377, 0.0315, 0.0000, 0.0000, 0.1063, 0.4639, 0.1520, 0.0000,\n",
       "          0.0000, 0.1533, 0.3079, 0.1854, 0.1116, 0.0000, 0.1728, 0.0146,\n",
       "          0.1783, 0.0000, 0.3383, 0.0000],\n",
       "         [0.0606, 0.0000, 0.0000, 0.1409, 0.3684, 0.0472, 0.0000, 0.0000,\n",
       "          0.2988, 0.2785, 0.0000, 0.0000, 0.0829, 0.1649, 0.1017, 0.0000,\n",
       "          0.0000, 0.0662, 0.0795, 0.2182, 0.0327, 0.0028, 0.0000, 0.0000,\n",
       "          0.2720, 0.0000, 0.2641, 0.4269],\n",
       "         [0.0150, 0.0000, 0.0000, 0.0000, 0.0893, 0.2500, 0.0000, 0.0000,\n",
       "          0.0210, 0.0000, 0.0000, 0.0000, 0.0000, 0.0000, 0.4691, 0.0000,\n",
       "          0.2545, 0.6652, 0.0000, 0.0000, 0.0166, 0.0000, 0.0000, 0.2103,\n",
       "          0.0000, 0.0895, 0.0000, 0.0000]]], grad_fn=<CopySlices>)"
      ]
     },
     "execution_count": 163,
     "metadata": {},
     "output_type": "execute_result"
    }
   ],
   "source": [
    "g_out_mat"
   ]
  },
  {
   "cell_type": "code",
   "execution_count": null,
   "id": "0f4fc96f",
   "metadata": {},
   "outputs": [],
   "source": []
  }
 ],
 "metadata": {
  "kernelspec": {
   "display_name": "EyesOff2",
   "language": "python",
   "name": "eyesoff2"
  },
  "language_info": {
   "codemirror_mode": {
    "name": "ipython",
    "version": 3
   },
   "file_extension": ".py",
   "mimetype": "text/x-python",
   "name": "python",
   "nbconvert_exporter": "python",
   "pygments_lexer": "ipython3",
   "version": "3.11.7"
  }
 },
 "nbformat": 4,
 "nbformat_minor": 5
}
