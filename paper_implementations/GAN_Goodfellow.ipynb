{
 "cells": [
  {
   "cell_type": "code",
   "execution_count": null,
   "id": "ebbca595",
   "metadata": {
    "scrolled": false
   },
   "outputs": [],
   "source": [
    "import os\n",
    "\n",
    "# Set the environment variable to enable CPU fallback for MPS\n",
    "os.environ['PYTORCH_ENABLE_MPS_FALLBACK'] = '1'\n",
    "%env PYTORCH_ENABLE_MPS_FALLBACK=1"
   ]
  },
  {
   "cell_type": "code",
   "execution_count": null,
   "id": "aa398f6f",
   "metadata": {},
   "outputs": [],
   "source": [
    "import torch\n",
    "import torchvision\n",
    "\n",
    "import torch.nn as nn\n",
    "import torch.nn.functional as F\n",
    "\n",
    "import torchvision.transforms as transforms\n",
    "\n",
    "from torch.optim.lr_scheduler import ReduceLROnPlateau\n",
    "from torch.utils.data import TensorDataset, ConcatDataset, random_split, DataLoader, Dataset\n",
    "\n",
    "import numpy as np"
   ]
  },
  {
   "cell_type": "code",
   "execution_count": null,
   "id": "5a85bd1d",
   "metadata": {},
   "outputs": [],
   "source": [
    "if torch.backends.mps.is_available():\n",
    "    device = torch.device(\"mps\")\n",
    "    x = torch.ones(1, device=device)\n",
    "    print (x)\n",
    "    \n",
    "elif torch.backends.cuda.is_built():\n",
    "    device = torch.device(\"cuda\")\n",
    "    x = torch.ones(1, device=device)\n",
    "    print (x)\n",
    "    \n",
    "else:\n",
    "    print (\"MPS device not found.\")"
   ]
  },
  {
   "cell_type": "code",
   "execution_count": null,
   "id": "8003c385",
   "metadata": {},
   "outputs": [],
   "source": [
    "transform = transforms.Compose([\n",
    "    transforms.ToTensor(),\n",
    "    transforms.Normalize((0.5,), (0.5,)),\n",
    "])\n",
    "\n",
    "mnist_train = torchvision.datasets.MNIST(\n",
    "    root='./Data',\n",
    "    train=True,\n",
    "    download=True,\n",
    "    transform=transform,\n",
    ")\n",
    "mnist_train.targets = torch.ones_like(mnist_train.targets, dtype=torch.float32)\n",
    "\n",
    "train_loader = torch.utils.data.DataLoader(\n",
    "    mnist_train, \n",
    "    shuffle=True,\n",
    "    batch_size=64,\n",
    ")\n",
    "\n",
    "mnist_test = torchvision.datasets.MNIST(\n",
    "    root='./Data',\n",
    "    train=False,\n",
    "    download=True,\n",
    "    transform=transform\n",
    ")\n",
    "mnist_test.targets = torch.ones_like(mnist_train.targets, dtype=torch.float32)\n",
    "\n",
    "test_loader = torch.utils.data.DataLoader(\n",
    "    mnist_test,\n",
    "    shuffle=True,\n",
    "    batch_size=64,\n",
    ")"
   ]
  },
  {
   "cell_type": "code",
   "execution_count": null,
   "id": "60cda750",
   "metadata": {},
   "outputs": [],
   "source": [
    "# Let's show some of the training images, for fun.\n",
    "import matplotlib.pyplot as plt\n",
    "import numpy as np\n",
    "\n",
    "# functions to show an image\n",
    "\n",
    "def imshow(img):\n",
    "    img = img / 2 + 0.5  # unnormalize\n",
    "    npimg = img.numpy()\n",
    "    plt.imshow(np.transpose(npimg, (1, 2, 0)))\n",
    "    plt.show()"
   ]
  },
  {
   "cell_type": "code",
   "execution_count": null,
   "id": "31748c02",
   "metadata": {},
   "outputs": [],
   "source": [
    "# Let's show some of the training images, for fun.\n",
    "import matplotlib.pyplot as plt\n",
    "import numpy as np\n",
    "\n",
    "# functions to show an image\n",
    "\n",
    "def imshow(img):\n",
    "    img = img / 2 + 0.5  # unnormalize\n",
    "    npimg = img.numpy()\n",
    "    plt.imshow(np.transpose(npimg, (1, 2, 0)))\n",
    "    plt.show()\n",
    "\n",
    "\n",
    "# get some random training images\n",
    "dataiter = iter(train_loader)\n",
    "images, labels = next(dataiter)\n",
    "\n",
    "# show images\n",
    "imshow(torchvision.utils.make_grid(images)), labels"
   ]
  },
  {
   "cell_type": "code",
   "execution_count": null,
   "id": "4836308a",
   "metadata": {},
   "outputs": [],
   "source": [
    "images.shape"
   ]
  },
  {
   "cell_type": "markdown",
   "id": "7b274d45",
   "metadata": {},
   "source": [
    "Define a simple MLP with 2 linear layers and ReLU. This model currently only produces random noise images with a single normally distributed random input. We produce an output vector of 784 and then convert it to a tensor by putting multiples of 28 numbers as the rows of the matrix"
   ]
  },
  {
   "cell_type": "code",
   "execution_count": null,
   "id": "c81be44f",
   "metadata": {},
   "outputs": [],
   "source": [
    "class Generator(nn.Module): \n",
    "    def __init__(self):\n",
    "        super().__init__()\n",
    "        \n",
    "        self.linear1 = nn.Linear(1, 256)\n",
    "        self.relu1 = nn.ReLU()\n",
    "        \n",
    "        self.linear2 = nn.Linear(256, 784)\n",
    "        self.relu2 = nn.ReLU()\n",
    "    \n",
    "    def forward(self, x):\n",
    "        x = self.linear1(x)\n",
    "        x = self.relu1(x)\n",
    "        \n",
    "        x = self.linear2(x)\n",
    "        x = self.relu2(x)\n",
    "        \n",
    "        '''# Need to convert the output vector x to a matrix\n",
    "        g_out_mat = torch.zeros(1, 28, 28)\n",
    "\n",
    "        m = 0\n",
    "        n = 0\n",
    "\n",
    "        for i in range(len(x)):\n",
    "            if i % 28 == 0 and i != 0:\n",
    "                m += 1\n",
    "                n = 0\n",
    "                #print(i, m)\n",
    "\n",
    "            g_out_mat[0, m, n] = x[i]\n",
    "\n",
    "            n += 1  '''\n",
    "        \n",
    "        # Reshape the output to a 28x28 matrix\n",
    "        x = x.view(-1, 28, 28)\n",
    "        \n",
    "        return x\n",
    "    \n",
    "generator = Generator()"
   ]
  },
  {
   "cell_type": "code",
   "execution_count": null,
   "id": "e3f6bbb2",
   "metadata": {},
   "outputs": [],
   "source": [
    "mu, sigma = 0, 1 # mean and standard deviation\n",
    "g_in = torch.tensor(np.random.normal(mu, sigma, 1), dtype=torch.float32)\n",
    "g_in"
   ]
  },
  {
   "cell_type": "code",
   "execution_count": null,
   "id": "ca51b30c",
   "metadata": {},
   "outputs": [],
   "source": [
    "g_out = generator(g_in)"
   ]
  },
  {
   "cell_type": "code",
   "execution_count": null,
   "id": "e3c94889",
   "metadata": {
    "scrolled": false
   },
   "outputs": [],
   "source": [
    "imshow(g_out.detach().cpu()), torch.Tensor([0])"
   ]
  },
  {
   "cell_type": "code",
   "execution_count": null,
   "id": "025dffd5",
   "metadata": {},
   "outputs": [],
   "source": [
    "# Maybe we can perform a check on the above noise output image and check if it is indeed just noise? Would\n",
    "# be nice for my blog post"
   ]
  },
  {
   "cell_type": "markdown",
   "id": "fc7a29b1",
   "metadata": {},
   "source": [
    "### Lets add 50% noise samples to the dataset, we will add 60k to train set and 10k to test\n",
    "This is optional to run, do not run it right away"
   ]
  },
  {
   "cell_type": "code",
   "execution_count": null,
   "id": "9ba57fd8",
   "metadata": {},
   "outputs": [],
   "source": [
    "# Lets first generate 70k noise numbers from the normal dist\n",
    "noise_tensor = torch.randn(70000, 1)\n",
    "\n",
    "# Will pass each of these to the model to give us 70k noisy images\n",
    "generator.eval()\n",
    "with torch.no_grad():\n",
    "    gen_images = generator(noise_tensor)\n",
    "    gen_images = gen_images.unsqueeze(1)\n",
    "\n",
    "gen_labels = [0] * 70000"
   ]
  },
  {
   "cell_type": "code",
   "execution_count": null,
   "id": "5f4fbc53",
   "metadata": {},
   "outputs": [],
   "source": [
    "imshow(gen_images[0].detach()), gen_labels[0]"
   ]
  },
  {
   "cell_type": "code",
   "execution_count": null,
   "id": "7cfd7035",
   "metadata": {},
   "outputs": [],
   "source": [
    "# Create a new dataset\n",
    "gen_dataset = TensorDataset(gen_images, torch.tensor(gen_labels, dtype=torch.long))\n",
    "\n",
    "train_size = 60000\n",
    "test_size = 10000\n",
    "gen_train_dataset, gen_test_dataset = random_split(gen_dataset, [train_size, test_size])"
   ]
  },
  {
   "cell_type": "code",
   "execution_count": null,
   "id": "7f7874bf",
   "metadata": {},
   "outputs": [],
   "source": [
    "# Create a custom dataset class which allows us to keep the labels as integers to match the MNIST data\n",
    "class CustomTensorDataset(Dataset):\n",
    "    \"\"\"Dataset wrapping tensors and integer labels.\n",
    "\n",
    "    Arguments:\n",
    "        tensors (Tensor): contains sample data.\n",
    "        labels (list of int): contains sample labels.\n",
    "    \"\"\"\n",
    "    def __init__(self, tensors, labels):\n",
    "        assert tensors.size(0) == len(labels)\n",
    "        self.tensors = tensors\n",
    "        self.labels = labels\n",
    "\n",
    "    def __getitem__(self, index):\n",
    "        return self.tensors[index], self.labels[index]\n",
    "\n",
    "    def __len__(self):\n",
    "        return self.tensors.size(0)\n",
    "    \n",
    "gen_dataset = CustomTensorDataset(gen_images, gen_labels)\n",
    "\n",
    "train_size = 60000\n",
    "test_size = 10000\n",
    "gen_train_dataset, gen_test_dataset = random_split(gen_dataset, [train_size, test_size])"
   ]
  },
  {
   "cell_type": "code",
   "execution_count": null,
   "id": "37c33715",
   "metadata": {},
   "outputs": [],
   "source": [
    "comb_train_dataset = ConcatDataset([mnist_train, gen_train_dataset])\n",
    "comb_test_dataset = ConcatDataset([mnist_test, gen_test_dataset])\n",
    "\n",
    "# Create DataLoaders for the combined datasets\n",
    "comb_train_loader = DataLoader(comb_train_dataset, batch_size=64, shuffle=True)\n",
    "comb_test_loader = DataLoader(comb_test_dataset, batch_size=64, shuffle=False)"
   ]
  },
  {
   "cell_type": "code",
   "execution_count": null,
   "id": "d3a6894f",
   "metadata": {
    "scrolled": true
   },
   "outputs": [],
   "source": [
    "gen_train_dataset[0], mnist_train[2]"
   ]
  },
  {
   "cell_type": "markdown",
   "id": "bd97f132",
   "metadata": {},
   "source": [
    "***"
   ]
  },
  {
   "cell_type": "code",
   "execution_count": null,
   "id": "ed620849",
   "metadata": {},
   "outputs": [],
   "source": [
    "class Discriminator(nn.Module): \n",
    "    def __init__(self):\n",
    "        super().__init__()\n",
    "        \n",
    "        self.linear1 = nn.Linear(784, 256)\n",
    "        self.relu1 = nn.ReLU()\n",
    "        self.dropout1 = nn.Dropout(0.5)\n",
    "        \n",
    "        self.linear2 = nn.Linear(256, 1)\n",
    "        #self.relu2 = nn.ReLU()\n",
    "        self.dropout2 = nn.Dropout(0.5)\n",
    "        # Use sigmoid to ensure output is a probability\n",
    "        self.sigmoid = nn.Sigmoid()\n",
    "    \n",
    "    def forward(self, x):\n",
    "        x = self.linear1(x)\n",
    "        x = self.relu1(x)\n",
    "        x = self.dropout1(x)\n",
    "        \n",
    "        x = self.linear2(x)\n",
    "        #x = self.relu2(x)\n",
    "        #x = self.dropout2(x)\n",
    "        \n",
    "        x = self.sigmoid(x)\n",
    "        \n",
    "        return x\n",
    "\n",
    "discriminator = Discriminator()\n",
    "discriminator.to(device)"
   ]
  },
  {
   "cell_type": "markdown",
   "id": "40f670c9",
   "metadata": {},
   "source": [
    "Lets feed 1 image at a time, either from train dataset or the generated noise image from our Generator model and train the discriminator. I will try implement a manual training loop, to train on batch size one updating after each epoch. We have labels 1 - Data from training set, 0 - Data from G"
   ]
  },
  {
   "cell_type": "code",
   "execution_count": null,
   "id": "9603ff25",
   "metadata": {},
   "outputs": [],
   "source": [
    "# Lets add the label to the train loader and test loader data. Basically just switch the labels to be all 1s\n",
    "# Switch all the labels of the mnist train data to 1, which represent true for being from the train set\n",
    "#mnist_train.targets = torch.ones_like(mnist_train.targets, dtype=torch.float32)\n",
    "#mnist_test.targets = torch.ones_like(mnist_train.targets, dtype=torch.float32)\n",
    "# We run these when we load the original mnist_data such that we do not change labels after adding the noise samples"
   ]
  },
  {
   "cell_type": "code",
   "execution_count": null,
   "id": "63626f4f",
   "metadata": {},
   "outputs": [],
   "source": [
    "# Lets make a function which will provide the input to the discriminator model. We will flatten the input input \n",
    "# We will put a random split on the training input, it will either come from the generator model or the training data\n"
   ]
  },
  {
   "cell_type": "code",
   "execution_count": null,
   "id": "99dcc287",
   "metadata": {},
   "outputs": [],
   "source": [
    "criterion = nn.BCELoss()\n",
    "optimizer = torch.optim.SGD(discriminator.parameters(), lr=0.05, weight_decay=0.0005, momentum=0.9)"
   ]
  },
  {
   "cell_type": "code",
   "execution_count": null,
   "id": "841eb000",
   "metadata": {
    "scrolled": true
   },
   "outputs": [],
   "source": [
    "for epoch in range(5):\n",
    "    discriminator.train()\n",
    "    i = 0\n",
    "    data_iter = iter(train_loader)\n",
    "    running_loss = 0.0\n",
    "\n",
    "    '''for i, data in enumerate(train_loader, 0):\n",
    "        # Here I either choose data from the trainset or the generator\n",
    "    \n",
    "        inputs, labels = data'''\n",
    "    \n",
    "    # Issue with the labels I have no clue what is happening, lets switch tack and try to just train without the \n",
    "    # gen samples\n",
    "    \n",
    "    while i < len(mnist_train):\n",
    "        #if torch.rand(1) > 0.5:\n",
    "        #    mu, sigma = 0, 1 # mean and standard deviation\n",
    "        #    g_in = torch.Tensor(np.random.normal(mu, sigma, 1))\n",
    "        #    inputs, labels = generator(g_in)\n",
    "        #    if i > 0:\n",
    "        #        i -= 1 # Reset i position\n",
    "        #    print(\"gen sample\")\n",
    "        #    print(labels, labels.shape)\n",
    "            # Convert labels to torch.Tensor and ensure they have the correct shape\n",
    "            #labels = torch.Tensor(labels).unsqueeze(0)\n",
    "        #else:\n",
    "        inputs, labels = next(data_iter)\n",
    "        #print('train sample')\n",
    "        #print(f'label: {labels}')\n",
    "        #print(f'input shape before flattening: {inputs.shape}')\n",
    "        \n",
    "    \n",
    "        # Flatten the input to a vector\n",
    "        inputs = torch.flatten(inputs, start_dim=1)\n",
    "        #print(f'input shape after flattening: {inputs.shape}')\n",
    "        \n",
    "        \n",
    "        inputs, labels = inputs.to(device), labels.to(device)\n",
    "    \n",
    "        #labels = labels.to(torch.float32)\n",
    "        optimizer.zero_grad()\n",
    "        outputs = discriminator(inputs)\n",
    "        #print(f'outputs shape: {outputs.shape} | labels shape {labels.shape}')\n",
    "        #print(f'outputs: {outputs} | labels: {labels}')\n",
    "        \n",
    "        # Ensure outputs and labels have the same shape\n",
    "        labels = labels.unsqueeze(1)\n",
    "        labels = labels.float()\n",
    "        #print(f'labels shape after view_as: {labels.shape}')\n",
    "        \n",
    "        loss = criterion(outputs, labels)\n",
    "        #print(loss)\n",
    "        \n",
    "        loss.backward()\n",
    "        optimizer.step()\n",
    "\n",
    "        running_loss += loss.item()\n",
    "        \n",
    "        i += 64\n",
    " \n",
    "\n",
    "    # Move this print statement outside the inner loop\n",
    "    print(f'Epoch [{epoch + 1}] loss: {running_loss / len(train_loader):.3f}')\n",
    "    running_loss = 0.0\n",
    "\n",
    "    discriminator.eval()\n",
    "    correct = 0\n",
    "    total = 0\n",
    "    # since we're not training, we don't need to calculate the gradients for our outputs\n",
    "    with torch.no_grad():\n",
    "        for data in test_loader:\n",
    "            images, labels = data\n",
    "            # Push images to mps gpu\n",
    "            \n",
    "            images = torch.flatten(images, start_dim=1)\n",
    "            labels = labels.unsqueeze(1)\n",
    "            labels = labels.float()\n",
    "            \n",
    "            images, labels = images.to(device), labels.to(device)\n",
    "\n",
    "            # calculate outputs by running images through the network\n",
    "            outputs = discriminator(images)\n",
    "            # the class with the highest energy is what we choose as prediction\n",
    "            predicted = (outputs > 0.5).float()  # Convert probabilities to binary predictions\n",
    "            #total += labels.size(0)\n",
    "            correct += (predicted == labels).sum().item()\n",
    "\n",
    "    test_accuracy = 100 * correct / len(mnist_test)\n",
    "    print(f'Accuracy of the network on the test images: {test_accuracy:.2f}%')\n",
    "\n",
    "print('Finished Training')"
   ]
  },
  {
   "cell_type": "code",
   "execution_count": null,
   "id": "c0e07fa6",
   "metadata": {},
   "outputs": [],
   "source": [
    "# Interesting so if the tensors have a different shape i.e (64), (64,1)\n",
    "# The sum equates to the 64*64 why?"
   ]
  },
  {
   "cell_type": "code",
   "execution_count": null,
   "id": "7ec5ac6a",
   "metadata": {},
   "outputs": [],
   "source": [
    "# Now lets see what happens if we give the model our random noise image\n",
    "# Doing this makes the model out put roughly 0.5, showing it assigns roughly equal weight to both classes\n",
    "# I will now generate a bunch of noise samples and add them to the test train set to see what happens\n",
    "# The addition of noise will be done in a code block above\n",
    "noise = generator(torch.Tensor(np.random.normal(mu, sigma, 1)))\n",
    "noise_test = torch.flatten(noise, start_dim=1)\n",
    "noise_test = noise_test.to(device)\n",
    "discriminator.eval()\n",
    "noise_out = discriminator(noise_test)\n",
    "noise_out"
   ]
  },
  {
   "cell_type": "code",
   "execution_count": null,
   "id": "6a3fe71b",
   "metadata": {},
   "outputs": [],
   "source": [
    "imshow(noise.detach())"
   ]
  },
  {
   "cell_type": "code",
   "execution_count": null,
   "id": "d10d68bb",
   "metadata": {},
   "outputs": [],
   "source": [
    "noise.shape"
   ]
  },
  {
   "cell_type": "code",
   "execution_count": null,
   "id": "b5f662ce",
   "metadata": {},
   "outputs": [],
   "source": [
    "test_in = mnist_test[10][0]\n",
    "test_in = torch.flatten(test_in, start_dim=1)\n",
    "test_in = test_in.to(device)\n",
    "\n",
    "discriminator(test_in)"
   ]
  },
  {
   "cell_type": "markdown",
   "id": "d20029e6",
   "metadata": {},
   "source": [
    "## Running the discriminator with noise added to the mnist_data\n",
    "Data originally in mnist has label 1 and the noise has label 0"
   ]
  },
  {
   "cell_type": "code",
   "execution_count": null,
   "id": "14a366f4",
   "metadata": {
    "scrolled": true
   },
   "outputs": [],
   "source": [
    "for epoch in range(5):\n",
    "    running_loss = 0.0\n",
    "\n",
    "    for i, data in enumerate(comb_train_loader, 0):\n",
    "        # Here I either choose data from the trainset or the generator\n",
    "    \n",
    "        inputs, labels = data\n",
    "    \n",
    "        # Flatten the input to a vector\n",
    "        inputs = torch.flatten(inputs, start_dim=1)\n",
    "        \n",
    "        inputs, labels = inputs.to(device), labels.to(device)\n",
    "    \n",
    "        optimizer.zero_grad()\n",
    "        outputs = discriminator(inputs)\n",
    "        \n",
    "        # Ensure outputs and labels have the same shape\n",
    "        labels = labels.unsqueeze(1)\n",
    "        labels = labels.float()\n",
    "        \n",
    "        loss = criterion(outputs, labels)\n",
    "        \n",
    "        loss.backward()\n",
    "        optimizer.step()\n",
    "\n",
    "        running_loss += loss.item()\n",
    "         \n",
    "    # Move this print statement outside the inner loop\n",
    "    print(f'Epoch [{epoch + 1}] loss: {running_loss / len(train_loader):.3f}')\n",
    "    running_loss = 0.0\n",
    "\n",
    "    correct = 0\n",
    "    total = 0\n",
    "    # since we're not training, we don't need to calculate the gradients for our outputs\n",
    "    with torch.no_grad():\n",
    "        for data in comb_test_loader:\n",
    "            images, labels = data\n",
    "            # Push images to mps gpu\n",
    "            \n",
    "            images = torch.flatten(images, start_dim=1)\n",
    "            labels = labels.unsqueeze(1)\n",
    "            labels = labels.float()\n",
    "            \n",
    "            images, labels = images.to(device), labels.to(device)\n",
    "\n",
    "            # calculate outputs by running images through the network\n",
    "            outputs = discriminator(images)\n",
    "            # the class with the highest energy is what we choose as prediction\n",
    "            predicted = (outputs > 0.5).float()  # Convert probabilities to binary predictions\n",
    "            #total += labels.size(0)\n",
    "            correct += (predicted == labels).sum().item()\n",
    "\n",
    "    test_accuracy = 100 * correct / len(mnist_test + mnist_test)\n",
    "    print(f'Accuracy of the network on the test images: {test_accuracy:.2f}%')\n",
    "\n",
    "print('Finished Training')"
   ]
  },
  {
   "cell_type": "code",
   "execution_count": null,
   "id": "059c81fe",
   "metadata": {
    "scrolled": true
   },
   "outputs": [],
   "source": [
    "data_iter = iter(comb_train_loader)\n",
    "data = next(data_iter)"
   ]
  },
  {
   "cell_type": "markdown",
   "id": "a6b7488a",
   "metadata": {},
   "source": [
    "## So now I have a dataset which contains some random noise samples and the model classifies either if something is random noise or a image from the dataset"
   ]
  },
  {
   "cell_type": "code",
   "execution_count": null,
   "id": "e7579e86",
   "metadata": {},
   "outputs": [],
   "source": [
    "batch_size = 32\n",
    "\n",
    "transform = transforms.Compose([\n",
    "    transforms.ToTensor(),\n",
    "    transforms.Normalize((0.5,), (0.5,)),\n",
    "])\n",
    "\n",
    "mnist_train = torchvision.datasets.MNIST(\n",
    "    root='./Data',\n",
    "    train=True,\n",
    "    download=True,\n",
    "    transform=transform,\n",
    ")\n",
    "mnist_train.targets = torch.ones_like(mnist_train.targets, dtype=torch.float32)\n",
    "\n",
    "train_loader = torch.utils.data.DataLoader(\n",
    "    mnist_train, \n",
    "    shuffle=True,\n",
    "    batch_size=batch_size,\n",
    ")\n",
    "\n",
    "mnist_test = torchvision.datasets.MNIST(\n",
    "    root='./Data',\n",
    "    train=False,\n",
    "    download=True,\n",
    "    transform=transform\n",
    ")\n",
    "mnist_test.targets = torch.ones_like(mnist_train.targets, dtype=torch.float32)\n",
    "\n",
    "test_loader = torch.utils.data.DataLoader(\n",
    "    mnist_test,\n",
    "    shuffle=True,\n",
    "    batch_size=batch_size,\n",
    ")\n",
    "\n",
    "# TODO: We never use the train/test split why not just train with all data?"
   ]
  },
  {
   "cell_type": "code",
   "execution_count": null,
   "id": "2e4df58c",
   "metadata": {
    "scrolled": true
   },
   "outputs": [],
   "source": [
    "# I attempt to change the model architecture to get the generator to actually learn something, atm D model dominates\n",
    "\n",
    "class Discriminator(nn.Module): \n",
    "    def __init__(self):\n",
    "        super().__init__()\n",
    "        \n",
    "        self.linear1 = nn.Linear(784, 1024)\n",
    "        self.relu1 = nn.ReLU()\n",
    "        self.dropout1 = nn.Dropout(0.3)\n",
    "        \n",
    "        self.linear2 = nn.Linear(1024, 512)\n",
    "        self.relu2 = nn.ReLU()\n",
    "        self.dropout2 = nn.Dropout(0.3)\n",
    "        \n",
    "        self.linear3 = nn.Linear(512, 256)\n",
    "        self.relu3 = nn.ReLU()\n",
    "        self.dropout3 = nn.Dropout(0.3)\n",
    "        \n",
    "        self.linear4 = nn.Linear(256, 1)\n",
    "        \n",
    "        # Use sigmoid to ensure output is a probability\n",
    "        self.sigmoid = nn.Sigmoid()\n",
    "    \n",
    "    def forward(self, x):\n",
    "        x = x.view(x.size(0), 784)\n",
    "        \n",
    "        x = self.linear1(x)\n",
    "        x = self.relu1(x)\n",
    "        x = self.dropout1(x)\n",
    "        \n",
    "        x = self.linear2(x)\n",
    "        x = self.relu2(x)\n",
    "        x = self.dropout2(x)\n",
    "        \n",
    "        x = self.linear3(x)\n",
    "        x = self.relu3(x)\n",
    "        x = self.dropout3(x)\n",
    "        \n",
    "        x = self.linear4(x)\n",
    "        \n",
    "        x = self.sigmoid(x)\n",
    "        \n",
    "        return x\n",
    "\n",
    "discriminator = Discriminator()\n",
    "discriminator.to(device)"
   ]
  },
  {
   "cell_type": "code",
   "execution_count": null,
   "id": "33b96881",
   "metadata": {},
   "outputs": [],
   "source": [
    "# I attempt to change the model architecture to get the generator to actually learn something\n",
    "\n",
    "class Generator(nn.Module): \n",
    "    def __init__(self):\n",
    "        super().__init__()\n",
    "        \n",
    "        self.linear1 = nn.Linear(100, 256)\n",
    "        self.relu1 = nn.ReLU()\n",
    "        \n",
    "        self.linear2 = nn.Linear(256, 512)\n",
    "        self.relu2 = nn.ReLU()\n",
    "        \n",
    "        self.linear3 = nn.Linear(512, 1024)\n",
    "        self.relu3 = nn.ReLU()\n",
    "        \n",
    "        self.linear4 = nn.Linear(1024, 784)\n",
    "        self.tanh = nn.Tanh()\n",
    "        \n",
    "    def forward(self, x):\n",
    "        x = self.linear1(x)\n",
    "        x = self.relu1(x)\n",
    "        \n",
    "        x = self.linear2(x)\n",
    "        x = self.relu2(x)\n",
    "        \n",
    "        x = self.linear3(x)\n",
    "        x = self.relu3(x)\n",
    "        \n",
    "        x = self.linear4(x)\n",
    "        \n",
    "        x = self.tanh(x)\n",
    "        \n",
    "        # Reshape the output to a 28x28 matrix\n",
    "        x = x.view(x.size(0) , 1, 28, 28)\n",
    "        \n",
    "        return x\n",
    "\n",
    "generator = Generator().to(device=device)\n"
   ]
  },
  {
   "cell_type": "code",
   "execution_count": null,
   "id": "83d19829",
   "metadata": {},
   "outputs": [],
   "source": [
    "# Init two optimizers, one for G and one for D\n",
    "criterion = nn.BCELoss()\n",
    "\n",
    "optimizer_D = torch.optim.Adam(discriminator.parameters(), lr=0.0001)\n",
    "optimizer_G = torch.optim.Adam(generator.parameters(), lr=0.0001)"
   ]
  },
  {
   "cell_type": "code",
   "execution_count": null,
   "id": "1dc86f28",
   "metadata": {
    "scrolled": true
   },
   "outputs": [],
   "source": [
    "for epoch in range(10):\n",
    "    for i, data in enumerate(train_loader):\n",
    "        inputs, labels = data\n",
    "        \n",
    "        # Sample from noise and generate the fake images\n",
    "        noise_tensor = torch.randn(batch_size, 100)  # Increase amount of noise it was 1 before\n",
    "        with torch.no_grad():\n",
    "            gen_images = generator(noise_tensor)\n",
    "            #gen_images = gen_images.unsqueeze(1)\n",
    "        #gen_labels = [0] * batch_size\n",
    "        gen_labels = torch.zeros((batch_size))\n",
    "        \n",
    "        # Concat fake and real images\n",
    "        combined_images = torch.cat([inputs, gen_images])\n",
    "        combined_labels = torch.cat([labels, gen_labels])\n",
    "                \n",
    "        # Optional: shuffle the combined batch to prevent the model from learning order\n",
    "        indices = torch.randperm(combined_images.size(0))\n",
    "        combined_images = combined_images[indices]\n",
    "        combined_labels = combined_labels[indices]\n",
    "        \n",
    "        images_for_out = combined_images.detach().clone()\n",
    "        combined_images = torch.flatten(combined_images, start_dim=1)\n",
    "        combined_images, combined_labels = combined_images.to(device), combined_labels.to(device)\n",
    "        \n",
    "        combined_labels = combined_labels.unsqueeze(1)\n",
    "        \n",
    "        # First update the D model\n",
    "        discriminator.zero_grad()\n",
    "        d_outputs = discriminator(combined_images)\n",
    "                \n",
    "        loss_d = criterion(d_outputs, combined_labels)\n",
    "        loss_d.backward()\n",
    "        optimizer_D.step()\n",
    "\n",
    "        # Next update the G model, we use the same generated images which we have already created\n",
    "        generator.zero_grad()\n",
    "        \n",
    "        gen_images = torch.flatten(gen_images, start_dim=1)\n",
    "        \n",
    "        # For generator we need to switch the label from fake 0s, to real 1s\n",
    "        gen_labels.fill_(1)\n",
    "        gen_labels = gen_labels.unsqueeze(1)\n",
    "        \n",
    "        gen_images, gen_labels = gen_images.to(device), gen_labels.to(device)\n",
    "        \n",
    "        # Note we use the D model, the equation in the paper is max log(D(G(z))) and we already have G(z)\n",
    "        d_outputs = discriminator(gen_images)\n",
    "        \n",
    "        loss_g = criterion(d_outputs, gen_labels)\n",
    "        loss_g.backward()\n",
    "        optimizer_G.step()\n",
    "        \n",
    "        if i % 200 == 0:\n",
    "            print(f'Epoch {epoch}: Batch {i}, Loss_D: {loss_d.item()}, Loss_G: {loss_g.item()}')\n",
    "    \n",
    "    imshow(torchvision.utils.make_grid(images_for_out))\n",
    "\n",
    "print(\"Training complete\")"
   ]
  },
  {
   "cell_type": "code",
   "execution_count": null,
   "id": "3924615a",
   "metadata": {
    "scrolled": true
   },
   "outputs": [],
   "source": [
    "inputs.shape, gen_images.shape"
   ]
  },
  {
   "cell_type": "code",
   "execution_count": null,
   "id": "03fda15c",
   "metadata": {},
   "outputs": [],
   "source": [
    "imshow(torchvision.utils.make_grid(images_for_out))"
   ]
  },
  {
   "cell_type": "code",
   "execution_count": null,
   "id": "edceab4f",
   "metadata": {
    "scrolled": true
   },
   "outputs": [],
   "source": [
    "combined_images[0].shape"
   ]
  },
  {
   "cell_type": "code",
   "execution_count": null,
   "id": "a782db89",
   "metadata": {},
   "outputs": [],
   "source": [
    "imgs[0].shape"
   ]
  },
  {
   "cell_type": "markdown",
   "id": "aacc6e0c",
   "metadata": {},
   "source": [
    "## Debugging lets copy and paste the RealPython blog to see why mine is fucking up"
   ]
  },
  {
   "cell_type": "code",
   "execution_count": 1,
   "id": "10d7d1b6",
   "metadata": {},
   "outputs": [],
   "source": [
    "import torch\n",
    "from torch import nn\n",
    "\n",
    "import math\n",
    "import matplotlib.pyplot as plt\n",
    "import torchvision\n",
    "import torchvision.transforms as transforms"
   ]
  },
  {
   "cell_type": "code",
   "execution_count": 2,
   "id": "fbb4b155",
   "metadata": {},
   "outputs": [
    {
     "name": "stdout",
     "output_type": "stream",
     "text": [
      "cuda\n"
     ]
    }
   ],
   "source": [
    "torch.manual_seed(111)\n",
    "\n",
    "device = \"\"\n",
    "if torch.cuda.is_available():\n",
    "    device = torch.device(\"cuda\")\n",
    "else:\n",
    "    device = torch.device(\"cpu\")\n",
    "print(device)\n",
    "\n",
    "transform = transforms.Compose(\n",
    "    [transforms.ToTensor(), transforms.Normalize((0.5,), (0.5,))]\n",
    ")\n",
    "\n",
    "train_set = torchvision.datasets.MNIST(\n",
    "    root=\"./Data\", train=True, download=True, transform=transform\n",
    ")\n",
    "\n",
    "batch_size = 32\n",
    "train_loader = torch.utils.data.DataLoader(\n",
    "    train_set, batch_size=batch_size, shuffle=True\n",
    ")"
   ]
  },
  {
   "cell_type": "code",
   "execution_count": 3,
   "id": "04221dcb",
   "metadata": {},
   "outputs": [],
   "source": [
    "class Discriminator(nn.Module):\n",
    "    def __init__(self):\n",
    "        super().__init__()\n",
    "        self.model = nn.Sequential(\n",
    "            nn.Linear(784, 1024),\n",
    "            nn.ReLU(),\n",
    "            nn.Dropout(0.3),\n",
    "            nn.Linear(1024, 512),\n",
    "            nn.ReLU(),\n",
    "            nn.Dropout(0.3),\n",
    "            nn.Linear(512, 256),\n",
    "            nn.ReLU(),\n",
    "            nn.Dropout(0.3),\n",
    "            nn.Linear(256, 1),\n",
    "            nn.Sigmoid(),\n",
    "        )\n",
    "\n",
    "    def forward(self, x):\n",
    "        x = x.view(x.size(0), 784)\n",
    "        output = self.model(x)\n",
    "        return output\n",
    "\n",
    "discriminator = Discriminator().to(device=device)"
   ]
  },
  {
   "cell_type": "code",
   "execution_count": 4,
   "id": "15d9542f",
   "metadata": {},
   "outputs": [],
   "source": [
    "class Generator(nn.Module):\n",
    "    def __init__(self):\n",
    "        super().__init__()\n",
    "        self.model = nn.Sequential(\n",
    "            nn.Linear(100, 256),\n",
    "            nn.ReLU(),\n",
    "            nn.Linear(256, 512),\n",
    "            nn.ReLU(),\n",
    "            nn.Linear(512, 1024),\n",
    "            nn.ReLU(),\n",
    "            nn.Linear(1024, 784),\n",
    "            nn.Tanh(),\n",
    "        )\n",
    "\n",
    "    def forward(self, x):\n",
    "        output = self.model(x)\n",
    "        output = output.view(output.size(0) , 1, 28, 28)\n",
    "        return output\n",
    "\n",
    "generator = Generator().to(device=device)\n",
    "#generator = Generator()"
   ]
  },
  {
   "cell_type": "code",
   "execution_count": 5,
   "id": "89e233f8",
   "metadata": {},
   "outputs": [],
   "source": [
    "lr = 0.0001\n",
    "num_epochs = 50\n",
    "loss_function = nn.BCELoss()\n",
    "\n",
    "optimizer_discriminator = torch.optim.Adam(discriminator.parameters(), lr=lr)\n",
    "optimizer_generator = torch.optim.Adam(generator.parameters(), lr=lr)"
   ]
  },
  {
   "cell_type": "code",
   "execution_count": null,
   "id": "b9c1967d",
   "metadata": {
    "scrolled": true
   },
   "outputs": [
    {
     "name": "stdout",
     "output_type": "stream",
     "text": [
      "Epoch: 0 Loss D.: 0.5532830953598022\n",
      "Epoch: 0 Loss G.: 0.522576630115509\n",
      "Epoch: 1 Loss D.: 0.05301208794116974\n",
      "Epoch: 1 Loss G.: 4.2512969970703125\n",
      "Epoch: 2 Loss D.: 0.18687397241592407\n",
      "Epoch: 2 Loss G.: 5.164903163909912\n",
      "Epoch: 3 Loss D.: 0.0197414830327034\n",
      "Epoch: 3 Loss G.: 4.631035327911377\n"
     ]
    }
   ],
   "source": [
    "for epoch in range(num_epochs):\n",
    "    for n, (real_samples, mnist_labels) in enumerate(train_loader):\n",
    "        # Data for training the discriminator\n",
    "        real_samples = real_samples.to(device=device)\n",
    "        real_samples_labels = torch.ones((batch_size, 1)).to(\n",
    "            device=device\n",
    "        )\n",
    "        latent_space_samples = torch.randn((batch_size, 100)).to(\n",
    "            device=device\n",
    "        )\n",
    "        generated_samples = generator(latent_space_samples)\n",
    "        generated_samples_labels = torch.zeros((batch_size, 1)).to(\n",
    "            device=device\n",
    "        )\n",
    "        all_samples = torch.cat((real_samples, generated_samples))\n",
    "        all_samples_labels = torch.cat(\n",
    "            (real_samples_labels, generated_samples_labels)\n",
    "        )\n",
    "\n",
    "        # Training the discriminator\n",
    "        discriminator.zero_grad()\n",
    "        output_discriminator = discriminator(all_samples)\n",
    "        loss_discriminator = loss_function(\n",
    "            output_discriminator, all_samples_labels\n",
    "        )\n",
    "        loss_discriminator.backward()\n",
    "        optimizer_discriminator.step()\n",
    "\n",
    "        # Data for training the generator\n",
    "        latent_space_samples = torch.randn((batch_size, 100)).to(\n",
    "            device=device\n",
    "        )\n",
    "\n",
    "        # Training the generator\n",
    "        generator.zero_grad()\n",
    "        generated_samples = generator(latent_space_samples)\n",
    "        output_discriminator_generated = discriminator(generated_samples)\n",
    "        loss_generator = loss_function(\n",
    "            output_discriminator_generated, real_samples_labels\n",
    "        )\n",
    "        loss_generator.backward()\n",
    "        optimizer_generator.step()\n",
    "\n",
    "        # Show loss\n",
    "        if n == batch_size - 1:\n",
    "            print(f\"Epoch: {epoch} Loss D.: {loss_discriminator}\")\n",
    "            print(f\"Epoch: {epoch} Loss G.: {loss_generator}\")"
   ]
  },
  {
   "cell_type": "code",
   "execution_count": null,
   "id": "75cc3a6e",
   "metadata": {},
   "outputs": [],
   "source": [
    "\n",
    "generated_samples = generated_samples.cpu().detach()\n",
    "for i in range(16):\n",
    "    ax = plt.subplot(4, 4, i + 1)\n",
    "    plt.imshow(generated_samples[i].reshape(28, 28), cmap=\"gray_r\")\n",
    "    plt.xticks([])\n",
    "    plt.yticks([])"
   ]
  },
  {
   "cell_type": "code",
   "execution_count": null,
   "id": "e4c9ea3f",
   "metadata": {},
   "outputs": [],
   "source": []
  }
 ],
 "metadata": {
  "kernelspec": {
   "display_name": "gpu_use",
   "language": "python",
   "name": "gpu_use"
  },
  "language_info": {
   "codemirror_mode": {
    "name": "ipython",
    "version": 3
   },
   "file_extension": ".py",
   "mimetype": "text/x-python",
   "name": "python",
   "nbconvert_exporter": "python",
   "pygments_lexer": "ipython3",
   "version": "3.11.7"
  }
 },
 "nbformat": 4,
 "nbformat_minor": 5
}
