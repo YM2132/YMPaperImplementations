{
 "cells": [
  {
   "cell_type": "raw",
   "id": "bc6d1258-1942-4c1b-b335-151a37abde1c",
   "metadata": {},
   "source": [
    "---\n",
    "title: \"The Path to StyleGan2 - Implementing the StyleGAN\"\n",
    "format: \n",
    "  html:\n",
    "    html-math-method: mathjax\n",
    "    code-fold: false\n",
    "    other-links:\n",
    "      - text: Yusuf's Deep Learning Blog\n",
    "        href: https://ym2132.github.io/\n",
    "      - text: Yusuf's GitHub\n",
    "        href: https://github.com/YM2132?tab=repositories\n",
    "    code-links:\n",
    "      - text: Progressive_GAN.py\n",
    "        icon: file-code\n",
    "        href: https://github.com/YM2132/YMPaperImplementations/blob/main/paper_implementations/python_implementations/StyleGAN.py\n",
    "       \n",
    "    link-external-newwindow: true\n",
    "jupyter: python3\n",
    "author:\n",
    "  - name: Yusuf Mohammad\n",
    "---"
   ]
  },
  {
   "cell_type": "markdown",
   "id": "46beec97-ed0e-482d-8b24-7ccea6ca88f5",
   "metadata": {},
   "source": [
    "---\n",
    "\n",
    "This is the second post on the StyleGAN series of models. In this post we implement the StyleGAN and in the third and final post we will implement StyleGAN2.\n",
    "\n",
    "---"
   ]
  },
  {
   "cell_type": "markdown",
   "id": "8797df0f-0f4a-49fe-ba63-68e4c4f06ad0",
   "metadata": {},
   "source": [
    "<h2> StyleGAN - Building on the Progressive GAN</h2>\n",
    "\n",
    "This post will be a lot shorter than my last, on the <a href=\"https://ym2132.github.io/Progressive_GAN\">Progressive Growing GAN (PGGAN)</a>, as the StyleGAN reuses a lot of the techniques from the PGGAN. As such, I strongly suggest you read the PGGAN post if you haven't before proceeding.\n",
    "\n",
    "The implementation of the StyleGAN has some major differences to the Generator architecture, the underlying structure follows the PGGAN paper, but the Discriminator model remains unchanged from the PGGAN. Through modifying the G setup, StyleGAN achieves better image generation than PGGAN. Also this paper covers some very interesting topics which shed light on the inner workings of GANs. Before we implement the model we can explore these topics together.\n"
   ]
  },
  {
   "cell_type": "code",
   "execution_count": null,
   "id": "cb80eab6-b78a-4b46-8610-d1179943635a",
   "metadata": {},
   "outputs": [],
   "source": []
  }
 ],
 "metadata": {
  "kernelspec": {
   "display_name": "gpu_use",
   "language": "python",
   "name": "gpu_use"
  },
  "language_info": {
   "codemirror_mode": {
    "name": "ipython",
    "version": 3
   },
   "file_extension": ".py",
   "mimetype": "text/x-python",
   "name": "python",
   "nbconvert_exporter": "python",
   "pygments_lexer": "ipython3",
   "version": "3.11.7"
  }
 },
 "nbformat": 4,
 "nbformat_minor": 5
}
